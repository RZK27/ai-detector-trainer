{
 "cells": [
  {
   "cell_type": "code",
   "execution_count": null,
   "metadata": {},
   "outputs": [],
   "source": [
    "\"\"\"\n",
    "Group Number 65\n",
    "CPS 834\n",
    "11 30 2024\n",
    "\n",
    "Name                      Student Number      Email\n",
    "-----------------------------------------------------------------------------\n",
    "Harrison Kalathil         501138547           harrison.kalathil@torontomu.ca\n",
    "Maninder Arora            501041960           maninder.arora@torontomu.ca\n",
    "Rahabar Sekandar          501100634           rsekandar@torontomu.ca\n",
    "Steven Chen               501096820           steven1.chen@torontomu.ca\n",
    "\n",
    "This program creates and trains a tensorflow model to predict whether an image,\n",
    "in this case a cat image, is real or is ai-generated.\n",
    "\"\"\""
   ]
  },
  {
   "cell_type": "code",
   "execution_count": null,
   "metadata": {},
   "outputs": [],
   "source": [
    "import numpy as np\n",
    "import cv2\n",
    "import os\n",
    "import random\n",
    "import setuptools.dist\n",
    "from tensorflow.keras import layers, models, Input"
   ]
  },
  {
   "cell_type": "code",
   "execution_count": null,
   "metadata": {},
   "outputs": [],
   "source": [
    "DIRECTORY = r'.\\data'          # Relative path where images are stored\n",
    "CATEGORIES = [\"real\", \"fake\"]  # Categories of images: real (image is real) and fake (image is ai-generated)\n",
    "IMG_SIZE = 256                 # Image pixel width and height model will train on"
   ]
  },
  {
   "cell_type": "code",
   "execution_count": null,
   "metadata": {},
   "outputs": [],
   "source": [
    "data = []  # Array to store images as arrays along with their label (real or fake) as a number (0 or 1)\n",
    "\n",
    "# Populate data array with image-arrays and with label-numbers\n",
    "# using os to gather images and cv2 to resize and convert images to arrays\n",
    "for category in CATEGORIES:\n",
    "    folder = os.path.join(DIRECTORY, category)\n",
    "    label = CATEGORIES.index(category)\n",
    "    \n",
    "    for image in os.listdir(folder):\n",
    "        image_path = os.path.join(folder, image)\n",
    "        image_arr = cv2.imread(image_path)\n",
    "        image_arr = cv2.resize(image_arr, (IMG_SIZE, IMG_SIZE))\n",
    "\n",
    "        data.append([image_arr, label])"
   ]
  },
  {
   "cell_type": "code",
   "execution_count": null,
   "metadata": {},
   "outputs": [],
   "source": [
    "# Shuffle data so as to not train model with all the real images and then all the fake ones,\n",
    "# and rather train it with a more even distribution of real and fake images\n",
    "random.shuffle(data)"
   ]
  },
  {
   "cell_type": "code",
   "execution_count": null,
   "metadata": {},
   "outputs": [],
   "source": [
    "# Separate data[] into features (images) and labels (0 or 1) to prepare for tensorflow\n",
    "features = []\n",
    "labels = []\n",
    "\n",
    "for feature, label in data:\n",
    "    features.append(feature)\n",
    "    labels.append(label)"
   ]
  },
  {
   "cell_type": "code",
   "execution_count": null,
   "metadata": {},
   "outputs": [],
   "source": [
    "# Convert arrays to numpy arrays for tensorflow\n",
    "features = np.array(features) / 255  #  Divide by 255 to convert pixel values (0-255) to decimal (0-1)\n",
    "labels = np.array(labels)"
   ]
  },
  {
   "cell_type": "code",
   "execution_count": null,
   "metadata": {},
   "outputs": [],
   "source": [
    "# Create CNN model, borrowed from the 'Simple_CNN' resource posted on d2l\n",
    "model = models.Sequential([\n",
    "    Input(shape=(IMG_SIZE, IMG_SIZE, 3)), # Explicit Input layer\n",
    "    layers.Conv2D(32, (3, 3), activation='relu'),\n",
    "    layers.MaxPooling2D((2, 2)),\n",
    "    layers.Conv2D(64, (3, 3), activation='relu'),\n",
    "    layers.MaxPooling2D((2, 2)),\n",
    "    layers.Conv2D(128, (3, 3), activation='relu'),\n",
    "    layers.MaxPooling2D((2, 2)),\n",
    "    layers.Flatten(),\n",
    "    layers.Dense(64, activation='relu'),\n",
    "    layers.Dense(1, activation='sigmoid') # Sigmoid for binary classification\n",
    "])\n",
    "model.compile(optimizer='adam', loss='binary_crossentropy', metrics=['accuracy'])"
   ]
  },
  {
   "cell_type": "code",
   "execution_count": null,
   "metadata": {},
   "outputs": [],
   "source": [
    "# Train model with 10 epochs and a tenth validation split\n",
    "model.fit(features, labels, epochs=10, validation_split=0.1)"
   ]
  },
  {
   "cell_type": "code",
   "execution_count": null,
   "metadata": {},
   "outputs": [],
   "source": [
    "# Save model to be used in other directories\n",
    "model.save('model.keras')"
   ]
  }
 ],
 "metadata": {
  "kernelspec": {
   "display_name": "Python 3",
   "language": "python",
   "name": "python3"
  },
  "language_info": {
   "codemirror_mode": {
    "name": "ipython",
    "version": 3
   },
   "file_extension": ".py",
   "mimetype": "text/x-python",
   "name": "python",
   "nbconvert_exporter": "python",
   "pygments_lexer": "ipython3",
   "version": "3.12.0"
  }
 },
 "nbformat": 4,
 "nbformat_minor": 2
}
